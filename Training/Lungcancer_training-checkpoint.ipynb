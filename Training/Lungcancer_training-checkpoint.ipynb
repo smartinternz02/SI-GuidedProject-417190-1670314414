{
 "cells": [
  {
   "cell_type": "code",
   "execution_count": 1,
   "metadata": {},
   "outputs": [
    {
     "name": "stderr",
     "output_type": "stream",
     "text": [
      "Using TensorFlow backend.\n"
     ]
    }
   ],
   "source": [
    "from keras.models import Sequential\n",
    "from keras.layers import Dense\n",
    "from keras.layers import Convolution2D\n",
    "from keras.layers import MaxPooling2D\n",
    "from keras.layers import Flatten\n"
   ]
  },
  {
   "cell_type": "code",
   "execution_count": 2,
   "metadata": {},
   "outputs": [],
   "source": [
    "from keras.preprocessing.image import ImageDataGenerator\n",
    "train_datagen = ImageDataGenerator(rescale = 1./255,shear_range = 0.2,zoom_range = 0.2,horizontal_flip = True)\n",
    "test_datagen = ImageDataGenerator(rescale = 1./255)"
   ]
  },
  {
   "cell_type": "code",
   "execution_count": 3,
   "metadata": {},
   "outputs": [
    {
     "name": "stdout",
     "output_type": "stream",
     "text": [
      "Found 102 images belonging to 2 classes.\n",
      "Found 40 images belonging to 2 classes.\n"
     ]
    }
   ],
   "source": [
    "# applying Image data generator functionality to train and test set\n",
    "x_train = train_datagen.flow_from_directory(\n",
    "    r'H:\\Lungcancer\\trainset'\n",
    "    ,target_size = (64,64),batch_size = 32 ,\n",
    "    class_mode = 'binary',color_mode=\"grayscale\")\n",
    "x_test = test_datagen.flow_from_directory(\n",
    "    r'H:\\Lungcancer\\testset',\n",
    "    target_size = (64,64),batch_size = 32 , \n",
    "    class_mode = 'binary',color_mode=\"grayscale\")\n"
   ]
  },
  {
   "cell_type": "code",
   "execution_count": 50,
   "metadata": {},
   "outputs": [
    {
     "name": "stdout",
     "output_type": "stream",
     "text": [
      "{'Cancer': 0, 'NonCancer': 1}\n"
     ]
    }
   ],
   "source": [
    "print(x_train.class_indices)"
   ]
  },
  {
   "cell_type": "code",
   "execution_count": 51,
   "metadata": {},
   "outputs": [],
   "source": [
    "model = Sequential()"
   ]
  },
  {
   "cell_type": "code",
   "execution_count": 52,
   "metadata": {},
   "outputs": [],
   "source": [
    "model.add(Convolution2D(32,(3,3), input_shape = (64,64,1),activation = \"relu\"))"
   ]
  },
  {
   "cell_type": "code",
   "execution_count": 53,
   "metadata": {},
   "outputs": [],
   "source": [
    "model.add(MaxPooling2D(pool_size = (2,2)))"
   ]
  },
  {
   "cell_type": "code",
   "execution_count": 54,
   "metadata": {},
   "outputs": [],
   "source": [
    "model.add(Flatten()) # input layer"
   ]
  },
  {
   "cell_type": "code",
   "execution_count": 55,
   "metadata": {},
   "outputs": [
    {
     "name": "stderr",
     "output_type": "stream",
     "text": [
      "D:\\LocalDiskC\\Anacoda\\lib\\site-packages\\ipykernel_launcher.py:1: UserWarning: Update your `Dense` call to the Keras 2 API: `Dense(units=128, activation=\"relu\", kernel_initializer=\"random_uniform\")`\n",
      "  \"\"\"Entry point for launching an IPython kernel.\n"
     ]
    }
   ],
   "source": [
    "model.add(Dense(units = 128,init = \"random_uniform\",activation = \"relu\")) #hidden layer"
   ]
  },
  {
   "cell_type": "code",
   "execution_count": 56,
   "metadata": {},
   "outputs": [
    {
     "name": "stderr",
     "output_type": "stream",
     "text": [
      "D:\\LocalDiskC\\Anacoda\\lib\\site-packages\\ipykernel_launcher.py:1: UserWarning: Update your `Dense` call to the Keras 2 API: `Dense(units=2, activation=\"sigmoid\", kernel_initializer=\"random_uniform\")`\n",
      "  \"\"\"Entry point for launching an IPython kernel.\n"
     ]
    }
   ],
   "source": [
    "model.add(Dense(units = 1,init = \"random_uniform\",activation = \"sigmoid\")) #output layer"
   ]
  },
  {
   "cell_type": "code",
   "execution_count": 57,
   "metadata": {},
   "outputs": [],
   "source": [
    "model.compile(loss = \"binary_crossentropy\",optimizer = \"adam\",metrics = [\"accuracy\"])"
   ]
  },
  {
   "cell_type": "code",
   "execution_count": 58,
   "metadata": {},
   "outputs": [
    {
     "name": "stdout",
     "output_type": "stream",
     "text": [
      "Epoch 1/100\n",
      "4/4 [==============================] - 5s 1s/step - loss: 0.7326 - acc: 0.4705 - val_loss: 0.6663 - val_acc: 0.5750\n",
      "Epoch 2/100\n",
      "4/4 [==============================] - 1s 141ms/step - loss: 0.6612 - acc: 0.6855 - val_loss: 0.6462 - val_acc: 0.6375\n",
      "Epoch 3/100\n",
      "4/4 [==============================] - 1s 142ms/step - loss: 0.6243 - acc: 0.7278 - val_loss: 0.5987 - val_acc: 0.6625\n",
      "Epoch 4/100\n",
      "4/4 [==============================] - 1s 149ms/step - loss: 0.6020 - acc: 0.7258 - val_loss: 0.5655 - val_acc: 0.6500\n",
      "Epoch 5/100\n",
      "4/4 [==============================] - 1s 296ms/step - loss: 0.6014 - acc: 0.7036 - val_loss: 0.5458 - val_acc: 0.6750\n",
      "Epoch 6/100\n",
      "4/4 [==============================] - 1s 307ms/step - loss: 0.5778 - acc: 0.7254 - val_loss: 0.5426 - val_acc: 0.7125\n",
      "Epoch 7/100\n",
      "4/4 [==============================] - 1s 320ms/step - loss: 0.5728 - acc: 0.6556 - val_loss: 0.4924 - val_acc: 0.7000\n",
      "Epoch 8/100\n",
      "4/4 [==============================] - 1s 301ms/step - loss: 0.4766 - acc: 0.8029 - val_loss: 0.6321 - val_acc: 0.7375\n",
      "Epoch 9/100\n",
      "4/4 [==============================] - 1s 323ms/step - loss: 0.5293 - acc: 0.7406 - val_loss: 0.4499 - val_acc: 0.7375\n",
      "Epoch 10/100\n",
      "4/4 [==============================] - 1s 300ms/step - loss: 0.5703 - acc: 0.6412 - val_loss: 0.4237 - val_acc: 0.7750\n",
      "Epoch 11/100\n",
      "4/4 [==============================] - 1s 305ms/step - loss: 0.4701 - acc: 0.7923 - val_loss: 0.5101 - val_acc: 0.7750\n",
      "Epoch 12/100\n",
      "4/4 [==============================] - 1s 311ms/step - loss: 0.4829 - acc: 0.7771 - val_loss: 0.3878 - val_acc: 0.8250\n",
      "Epoch 13/100\n",
      "4/4 [==============================] - 1s 313ms/step - loss: 0.4714 - acc: 0.8128 - val_loss: 0.3758 - val_acc: 0.8500\n",
      "Epoch 14/100\n",
      "4/4 [==============================] - 1s 305ms/step - loss: 0.4317 - acc: 0.7898 - val_loss: 0.3764 - val_acc: 0.8750\n",
      "Epoch 15/100\n",
      "4/4 [==============================] - 1s 314ms/step - loss: 0.5359 - acc: 0.7570 - val_loss: 0.4295 - val_acc: 0.8625\n",
      "Epoch 16/100\n",
      "4/4 [==============================] - 1s 309ms/step - loss: 0.4386 - acc: 0.8021 - val_loss: 0.3445 - val_acc: 0.9000\n",
      "Epoch 17/100\n",
      "4/4 [==============================] - 1s 303ms/step - loss: 0.4677 - acc: 0.8333 - val_loss: 0.3534 - val_acc: 0.8750\n",
      "Epoch 18/100\n",
      "4/4 [==============================] - 1s 315ms/step - loss: 0.3976 - acc: 0.8469 - val_loss: 0.4524 - val_acc: 0.7750\n",
      "Epoch 19/100\n",
      "4/4 [==============================] - 1s 308ms/step - loss: 0.3715 - acc: 0.8744 - val_loss: 0.2909 - val_acc: 0.9000\n",
      "Epoch 20/100\n",
      "4/4 [==============================] - 1s 361ms/step - loss: 0.4448 - acc: 0.7816 - val_loss: 0.2596 - val_acc: 0.9000\n",
      "Epoch 21/100\n",
      "4/4 [==============================] - 1s 351ms/step - loss: 0.3024 - acc: 0.8563 - val_loss: 0.5739 - val_acc: 0.6250\n",
      "Epoch 22/100\n",
      "4/4 [==============================] - 1s 316ms/step - loss: 0.4500 - acc: 0.7635 - val_loss: 0.2273 - val_acc: 0.9125\n",
      "Epoch 23/100\n",
      "4/4 [==============================] - 1s 310ms/step - loss: 0.3519 - acc: 0.8604 - val_loss: 0.2723 - val_acc: 0.8750\n",
      "Epoch 24/100\n",
      "4/4 [==============================] - 1s 317ms/step - loss: 0.4049 - acc: 0.8128 - val_loss: 0.3555 - val_acc: 0.8625\n",
      "Epoch 25/100\n",
      "4/4 [==============================] - 1s 319ms/step - loss: 0.3070 - acc: 0.8933 - val_loss: 0.2691 - val_acc: 0.9125\n",
      "Epoch 26/100\n",
      "4/4 [==============================] - 1s 318ms/step - loss: 0.2843 - acc: 0.9056 - val_loss: 0.2007 - val_acc: 0.9250\n",
      "Epoch 27/100\n",
      "4/4 [==============================] - 1s 313ms/step - loss: 0.3606 - acc: 0.8128 - val_loss: 0.2275 - val_acc: 0.9500\n",
      "Epoch 28/100\n",
      "4/4 [==============================] - 1s 335ms/step - loss: 0.4147 - acc: 0.8186 - val_loss: 0.2427 - val_acc: 0.9375\n",
      "Epoch 29/100\n",
      "4/4 [==============================] - 1s 308ms/step - loss: 0.2914 - acc: 0.8473 - val_loss: 0.1852 - val_acc: 0.9500\n",
      "Epoch 30/100\n",
      "4/4 [==============================] - 1s 322ms/step - loss: 0.2527 - acc: 0.9343 - val_loss: 0.3571 - val_acc: 0.8250\n",
      "Epoch 31/100\n",
      "4/4 [==============================] - 1s 315ms/step - loss: 0.2895 - acc: 0.8333 - val_loss: 0.2649 - val_acc: 0.9000\n",
      "Epoch 32/100\n",
      "4/4 [==============================] - 1s 320ms/step - loss: 0.2328 - acc: 0.9343 - val_loss: 0.1501 - val_acc: 0.9750\n",
      "Epoch 33/100\n",
      "4/4 [==============================] - 1s 312ms/step - loss: 0.2749 - acc: 0.9031 - val_loss: 0.1471 - val_acc: 0.9500\n",
      "Epoch 34/100\n",
      "4/4 [==============================] - 1s 371ms/step - loss: 0.2665 - acc: 0.8637 - val_loss: 0.1398 - val_acc: 0.9500\n",
      "Epoch 35/100\n",
      "4/4 [==============================] - 2s 394ms/step - loss: 0.2111 - acc: 0.9343 - val_loss: 0.1593 - val_acc: 0.9500\n",
      "Epoch 36/100\n",
      "4/4 [==============================] - 2s 388ms/step - loss: 0.2039 - acc: 0.9138 - val_loss: 0.1479 - val_acc: 0.9500\n",
      "Epoch 37/100\n",
      "4/4 [==============================] - 2s 380ms/step - loss: 0.2194 - acc: 0.9425 - val_loss: 0.1155 - val_acc: 0.9625\n",
      "Epoch 38/100\n",
      "4/4 [==============================] - 2s 383ms/step - loss: 0.1551 - acc: 0.9754 - val_loss: 0.1478 - val_acc: 0.9750\n",
      "Epoch 39/100\n",
      "4/4 [==============================] - 1s 310ms/step - loss: 0.1493 - acc: 0.9631 - val_loss: 0.1047 - val_acc: 0.9750\n",
      "Epoch 40/100\n",
      "4/4 [==============================] - 1s 297ms/step - loss: 0.1523 - acc: 0.9713 - val_loss: 0.0939 - val_acc: 0.9750\n",
      "Epoch 41/100\n",
      "4/4 [==============================] - 1s 305ms/step - loss: 0.1350 - acc: 0.9672 - val_loss: 0.0876 - val_acc: 1.0000\n",
      "Epoch 42/100\n",
      "4/4 [==============================] - 1s 311ms/step - loss: 0.1431 - acc: 0.9425 - val_loss: 0.1055 - val_acc: 0.9750\n",
      "Epoch 43/100\n",
      "4/4 [==============================] - 1s 313ms/step - loss: 0.1651 - acc: 0.9507 - val_loss: 0.0681 - val_acc: 0.9750\n",
      "Epoch 44/100\n",
      "4/4 [==============================] - 1s 321ms/step - loss: 0.1866 - acc: 0.9507 - val_loss: 0.0863 - val_acc: 1.0000\n",
      "Epoch 45/100\n",
      "4/4 [==============================] - 1s 325ms/step - loss: 0.1806 - acc: 0.9113 - val_loss: 0.0788 - val_acc: 1.0000\n",
      "Epoch 46/100\n",
      "4/4 [==============================] - 1s 313ms/step - loss: 0.1124 - acc: 0.9713 - val_loss: 0.0681 - val_acc: 0.9750\n",
      "Epoch 47/100\n",
      "4/4 [==============================] - 1s 307ms/step - loss: 0.1417 - acc: 0.9754 - val_loss: 0.0811 - val_acc: 1.0000\n",
      "Epoch 48/100\n",
      "4/4 [==============================] - 1s 308ms/step - loss: 0.1301 - acc: 0.9483 - val_loss: 0.0761 - val_acc: 1.0000\n",
      "Epoch 49/100\n",
      "4/4 [==============================] - 1s 307ms/step - loss: 0.1074 - acc: 0.9754 - val_loss: 0.0737 - val_acc: 1.0000\n",
      "Epoch 50/100\n",
      "4/4 [==============================] - 1s 308ms/step - loss: 0.1500 - acc: 0.9507 - val_loss: 0.0621 - val_acc: 0.9750\n",
      "Epoch 51/100\n",
      "4/4 [==============================] - 1s 310ms/step - loss: 0.1582 - acc: 0.9401 - val_loss: 0.0550 - val_acc: 0.9750\n",
      "Epoch 52/100\n",
      "4/4 [==============================] - 1s 311ms/step - loss: 0.1973 - acc: 0.9319 - val_loss: 0.0811 - val_acc: 0.9750\n",
      "Epoch 53/100\n",
      "4/4 [==============================] - 1s 310ms/step - loss: 0.1239 - acc: 0.9401 - val_loss: 0.1021 - val_acc: 0.9750\n",
      "Epoch 54/100\n",
      "4/4 [==============================] - 1s 300ms/step - loss: 0.0981 - acc: 0.9565 - val_loss: 0.0700 - val_acc: 0.9750\n",
      "Epoch 55/100\n",
      "4/4 [==============================] - 1s 289ms/step - loss: 0.1427 - acc: 0.9524 - val_loss: 0.1384 - val_acc: 0.9375\n",
      "Epoch 56/100\n",
      "4/4 [==============================] - 1s 316ms/step - loss: 0.1711 - acc: 0.9507 - val_loss: 0.0498 - val_acc: 1.0000\n",
      "Epoch 57/100\n",
      "4/4 [==============================] - 1s 310ms/step - loss: 0.1984 - acc: 0.9212 - val_loss: 0.0544 - val_acc: 1.0000\n",
      "Epoch 58/100\n",
      "4/4 [==============================] - 1s 314ms/step - loss: 0.1804 - acc: 0.9072 - val_loss: 0.0674 - val_acc: 1.0000\n",
      "Epoch 59/100\n",
      "4/4 [==============================] - 1s 306ms/step - loss: 0.1203 - acc: 0.9565 - val_loss: 0.0665 - val_acc: 1.0000\n",
      "Epoch 60/100\n",
      "4/4 [==============================] - 1s 302ms/step - loss: 0.1103 - acc: 0.9672 - val_loss: 0.0940 - val_acc: 1.0000\n",
      "Epoch 61/100\n",
      "4/4 [==============================] - 1s 311ms/step - loss: 0.1465 - acc: 0.9589 - val_loss: 0.0815 - val_acc: 1.0000\n",
      "Epoch 62/100\n",
      "4/4 [==============================] - 1s 303ms/step - loss: 0.0850 - acc: 0.9836 - val_loss: 0.0301 - val_acc: 1.0000\n",
      "Epoch 63/100\n",
      "4/4 [==============================] - 1s 306ms/step - loss: 0.1008 - acc: 0.9918 - val_loss: 0.0443 - val_acc: 1.0000\n",
      "Epoch 64/100\n",
      "4/4 [==============================] - 1s 316ms/step - loss: 0.0868 - acc: 0.9754 - val_loss: 0.1199 - val_acc: 0.9750\n",
      "Epoch 65/100\n",
      "4/4 [==============================] - 1s 304ms/step - loss: 0.0857 - acc: 0.9589 - val_loss: 0.0220 - val_acc: 1.0000\n",
      "Epoch 66/100\n",
      "4/4 [==============================] - 1s 306ms/step - loss: 0.0774 - acc: 0.9836 - val_loss: 0.0247 - val_acc: 1.0000\n",
      "Epoch 67/100\n",
      "4/4 [==============================] - 1s 313ms/step - loss: 0.0760 - acc: 0.9836 - val_loss: 0.0687 - val_acc: 1.0000\n",
      "Epoch 68/100\n",
      "4/4 [==============================] - 1s 307ms/step - loss: 0.0834 - acc: 0.9754 - val_loss: 0.0578 - val_acc: 1.0000\n",
      "Epoch 69/100\n",
      "4/4 [==============================] - 1s 306ms/step - loss: 0.0488 - acc: 0.9918 - val_loss: 0.0191 - val_acc: 1.0000\n",
      "Epoch 70/100\n",
      "4/4 [==============================] - 1s 324ms/step - loss: 0.0389 - acc: 1.0000 - val_loss: 0.0153 - val_acc: 1.0000\n",
      "Epoch 71/100\n",
      "4/4 [==============================] - 1s 324ms/step - loss: 0.0495 - acc: 1.0000 - val_loss: 0.0253 - val_acc: 1.0000\n",
      "Epoch 72/100\n",
      "4/4 [==============================] - 1s 313ms/step - loss: 0.0587 - acc: 0.9836 - val_loss: 0.0218 - val_acc: 1.0000\n",
      "Epoch 73/100\n",
      "4/4 [==============================] - 1s 307ms/step - loss: 0.0419 - acc: 0.9918 - val_loss: 0.0224 - val_acc: 1.0000\n",
      "Epoch 74/100\n",
      "4/4 [==============================] - 1s 306ms/step - loss: 0.0601 - acc: 0.9754 - val_loss: 0.0222 - val_acc: 1.0000\n",
      "Epoch 75/100\n",
      "4/4 [==============================] - 1s 311ms/step - loss: 0.0358 - acc: 1.0000 - val_loss: 0.0159 - val_acc: 1.0000\n",
      "Epoch 76/100\n",
      "4/4 [==============================] - 1s 302ms/step - loss: 0.0482 - acc: 1.0000 - val_loss: 0.0132 - val_acc: 1.0000\n",
      "Epoch 77/100\n",
      "4/4 [==============================] - 1s 316ms/step - loss: 0.0670 - acc: 0.9754 - val_loss: 0.0643 - val_acc: 0.9500\n",
      "Epoch 78/100\n",
      "4/4 [==============================] - 1s 308ms/step - loss: 0.0535 - acc: 0.9918 - val_loss: 0.0183 - val_acc: 1.0000\n",
      "Epoch 79/100\n",
      "4/4 [==============================] - 1s 325ms/step - loss: 0.0602 - acc: 1.0000 - val_loss: 0.0374 - val_acc: 0.9750\n",
      "Epoch 80/100\n",
      "4/4 [==============================] - 1s 305ms/step - loss: 0.0399 - acc: 0.9918 - val_loss: 0.0300 - val_acc: 1.0000\n",
      "Epoch 81/100\n",
      "4/4 [==============================] - 1s 307ms/step - loss: 0.0565 - acc: 1.0000 - val_loss: 0.0144 - val_acc: 1.0000\n",
      "Epoch 82/100\n",
      "4/4 [==============================] - 1s 315ms/step - loss: 0.0565 - acc: 0.9918 - val_loss: 0.0108 - val_acc: 1.0000\n",
      "Epoch 83/100\n",
      "4/4 [==============================] - 1s 325ms/step - loss: 0.0279 - acc: 1.0000 - val_loss: 0.0389 - val_acc: 1.0000\n",
      "Epoch 84/100\n",
      "4/4 [==============================] - 1s 305ms/step - loss: 0.0579 - acc: 0.9836 - val_loss: 0.0140 - val_acc: 1.0000\n",
      "Epoch 85/100\n",
      "4/4 [==============================] - 1s 311ms/step - loss: 0.0294 - acc: 1.0000 - val_loss: 0.0198 - val_acc: 1.0000\n",
      "Epoch 86/100\n",
      "4/4 [==============================] - 1s 307ms/step - loss: 0.0649 - acc: 0.9918 - val_loss: 0.0101 - val_acc: 1.0000\n",
      "Epoch 87/100\n",
      "4/4 [==============================] - 1s 311ms/step - loss: 0.0395 - acc: 0.9918 - val_loss: 0.0119 - val_acc: 1.0000\n",
      "Epoch 88/100\n",
      "4/4 [==============================] - 1s 316ms/step - loss: 0.0393 - acc: 0.9918 - val_loss: 0.0156 - val_acc: 1.0000\n",
      "Epoch 89/100\n",
      "4/4 [==============================] - 1s 308ms/step - loss: 0.0425 - acc: 0.9918 - val_loss: 0.0255 - val_acc: 1.0000\n",
      "Epoch 90/100\n",
      "4/4 [==============================] - 1s 307ms/step - loss: 0.0427 - acc: 1.0000 - val_loss: 0.0168 - val_acc: 1.0000\n",
      "Epoch 91/100\n",
      "4/4 [==============================] - 1s 307ms/step - loss: 0.0302 - acc: 1.0000 - val_loss: 0.0087 - val_acc: 1.0000\n",
      "Epoch 92/100\n",
      "4/4 [==============================] - 1s 306ms/step - loss: 0.0296 - acc: 1.0000 - val_loss: 0.0099 - val_acc: 1.0000\n",
      "Epoch 93/100\n",
      "4/4 [==============================] - 1s 313ms/step - loss: 0.0220 - acc: 1.0000 - val_loss: 0.0090 - val_acc: 1.0000\n",
      "Epoch 94/100\n",
      "4/4 [==============================] - 1s 307ms/step - loss: 0.0183 - acc: 1.0000 - val_loss: 0.0085 - val_acc: 1.0000\n",
      "Epoch 95/100\n",
      "4/4 [==============================] - 1s 308ms/step - loss: 0.0338 - acc: 0.9836 - val_loss: 0.0113 - val_acc: 1.0000\n",
      "Epoch 96/100\n",
      "4/4 [==============================] - 1s 321ms/step - loss: 0.0343 - acc: 0.9918 - val_loss: 0.0104 - val_acc: 1.0000\n",
      "Epoch 97/100\n",
      "4/4 [==============================] - 1s 310ms/step - loss: 0.0284 - acc: 0.9959 - val_loss: 0.0047 - val_acc: 1.0000\n",
      "Epoch 98/100\n",
      "4/4 [==============================] - 1s 310ms/step - loss: 0.0238 - acc: 1.0000 - val_loss: 0.0067 - val_acc: 1.0000\n",
      "Epoch 99/100\n",
      "4/4 [==============================] - 1s 310ms/step - loss: 0.0254 - acc: 0.9918 - val_loss: 0.0056 - val_acc: 1.0000\n",
      "Epoch 100/100\n",
      "4/4 [==============================] - 1s 302ms/step - loss: 0.0267 - acc: 0.9918 - val_loss: 0.0096 - val_acc: 1.0000\n"
     ]
    },
    {
     "data": {
      "text/plain": [
       "<keras.callbacks.History at 0x268b9616648>"
      ]
     },
     "execution_count": 58,
     "metadata": {},
     "output_type": "execute_result"
    }
   ],
   "source": [
    "model.fit_generator(x_train , steps_per_epoch = 4, \n",
    "                    epochs = 100, validation_data = x_test, \n",
    "                    validation_steps = 2)"
   ]
  },
  {
   "cell_type": "code",
   "execution_count": 59,
   "metadata": {},
   "outputs": [],
   "source": [
    "model.save(\"LungCancer.h5\")"
   ]
  },
  {
   "cell_type": "code",
   "execution_count": null,
   "metadata": {},
   "outputs": [],
   "source": []
  }
 ],
 "metadata": {
  "kernelspec": {
   "display_name": "Python 3",
   "language": "python",
   "name": "python3"
  },
  "language_info": {
   "codemirror_mode": {
    "name": "ipython",
    "version": 3
   },
   "file_extension": ".py",
   "mimetype": "text/x-python",
   "name": "python",
   "nbconvert_exporter": "python",
   "pygments_lexer": "ipython3",
   "version": "3.7.6"
  }
 },
 "nbformat": 4,
 "nbformat_minor": 2
}
