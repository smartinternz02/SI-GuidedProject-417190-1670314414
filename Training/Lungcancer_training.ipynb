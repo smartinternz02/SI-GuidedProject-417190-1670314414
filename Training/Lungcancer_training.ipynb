{
 "cells": [
  {
   "cell_type": "code",
   "execution_count": 1,
   "metadata": {},
   "outputs": [],
   "source": [
    "from tensorflow.keras.models import Sequential\n",
    "from tensorflow.keras.layers import Dense\n",
    "from tensorflow.keras.layers import Convolution2D\n",
    "from tensorflow.keras.layers import MaxPooling2D\n",
    "from tensorflow.keras.layers import Flatten\n"
   ]
  },
  {
   "cell_type": "code",
   "execution_count": 2,
   "metadata": {},
   "outputs": [],
   "source": [
    "from keras.preprocessing.image import ImageDataGenerator\n",
    "train_datagen = ImageDataGenerator(rescale = 1./255,shear_range = 0.2,zoom_range = 0.2,horizontal_flip = True)\n",
    "test_datagen = ImageDataGenerator(rescale = 1./255)"
   ]
  },
  {
   "cell_type": "code",
   "execution_count": 3,
   "metadata": {},
   "outputs": [
    {
     "name": "stdout",
     "output_type": "stream",
     "text": [
      "Found 102 images belonging to 2 classes.\n",
      "Found 40 images belonging to 2 classes.\n"
     ]
    }
   ],
   "source": [
    "# applying Image data generator functionality to train and test set\n",
    "x_train = train_datagen.flow_from_directory(\n",
    "    r'C:\\Users\\srihi\\Downloads\\Lung-Cancer-Disease-Prediction-main\\Lungcancer\\trainset'\n",
    "    ,target_size = (64,64),batch_size = 32 ,\n",
    "    class_mode = 'binary',color_mode=\"grayscale\")\n",
    "x_test = test_datagen.flow_from_directory(\n",
    "    r'C:\\Users\\srihi\\Downloads\\Lung-Cancer-Disease-Prediction-main\\Lungcancer\\testset',\n",
    "    target_size = (64,64),batch_size = 32 , \n",
    "    class_mode = 'binary',color_mode=\"grayscale\")\n"
   ]
  },
  {
   "cell_type": "code",
   "execution_count": 4,
   "metadata": {},
   "outputs": [
    {
     "name": "stdout",
     "output_type": "stream",
     "text": [
      "{'Cancer': 0, 'NonCancer': 1}\n"
     ]
    }
   ],
   "source": [
    "print(x_train.class_indices)"
   ]
  },
  {
   "cell_type": "code",
   "execution_count": 5,
   "metadata": {},
   "outputs": [],
   "source": [
    "model = Sequential()"
   ]
  },
  {
   "cell_type": "code",
   "execution_count": 6,
   "metadata": {},
   "outputs": [],
   "source": [
    "model.add(Convolution2D(32,(3,3), input_shape = (64,64,1),activation = \"relu\"))"
   ]
  },
  {
   "cell_type": "code",
   "execution_count": 7,
   "metadata": {},
   "outputs": [],
   "source": [
    "model.add(MaxPooling2D(pool_size = (2,2)))"
   ]
  },
  {
   "cell_type": "code",
   "execution_count": 8,
   "metadata": {},
   "outputs": [],
   "source": [
    "model.add(Flatten()) # input layer"
   ]
  },
  {
   "cell_type": "code",
   "execution_count": 9,
   "metadata": {},
   "outputs": [],
   "source": [
    "model.add(Dense(units = 128,kernel_initializer = \"random_uniform\",activation = \"relu\")) #hidden layer"
   ]
  },
  {
   "cell_type": "code",
   "execution_count": 10,
   "metadata": {},
   "outputs": [],
   "source": [
    "model.add(Dense(units = 1,kernel_initializer = \"random_uniform\",activation = \"sigmoid\")) #output layer"
   ]
  },
  {
   "cell_type": "code",
   "execution_count": 11,
   "metadata": {},
   "outputs": [],
   "source": [
    "model.compile(loss = \"binary_crossentropy\",optimizer = \"adam\",metrics = [\"accuracy\"])"
   ]
  },
  {
   "cell_type": "code",
   "execution_count": 12,
   "metadata": {},
   "outputs": [
    {
     "name": "stderr",
     "output_type": "stream",
     "text": [
      "C:\\Users\\srihi\\AppData\\Local\\Temp\\ipykernel_25184\\772929486.py:1: UserWarning: `Model.fit_generator` is deprecated and will be removed in a future version. Please use `Model.fit`, which supports generators.\n",
      "  model.fit_generator(x_train , steps_per_epoch = 4, epochs = 100, validation_data = x_test, validation_steps = 2)\n"
     ]
    },
    {
     "name": "stdout",
     "output_type": "stream",
     "text": [
      "Epoch 1/100\n",
      "4/4 [==============================] - 4s 714ms/step - loss: 0.7011 - accuracy: 0.5196 - val_loss: 0.7408 - val_accuracy: 0.5000\n",
      "Epoch 2/100\n",
      "4/4 [==============================] - 1s 255ms/step - loss: 0.7438 - accuracy: 0.4804 - val_loss: 0.6442 - val_accuracy: 0.5750\n",
      "Epoch 3/100\n",
      "4/4 [==============================] - 1s 253ms/step - loss: 0.6428 - accuracy: 0.6569 - val_loss: 0.6330 - val_accuracy: 0.7000\n",
      "Epoch 4/100\n",
      "4/4 [==============================] - 1s 325ms/step - loss: 0.6374 - accuracy: 0.6961 - val_loss: 0.6033 - val_accuracy: 0.7500\n",
      "Epoch 5/100\n",
      "4/4 [==============================] - 1s 309ms/step - loss: 0.6012 - accuracy: 0.6667 - val_loss: 0.5527 - val_accuracy: 0.6750\n",
      "Epoch 6/100\n",
      "4/4 [==============================] - 1s 227ms/step - loss: 0.5872 - accuracy: 0.7059 - val_loss: 0.5222 - val_accuracy: 0.7250\n",
      "Epoch 7/100\n",
      "4/4 [==============================] - 1s 254ms/step - loss: 0.5412 - accuracy: 0.6961 - val_loss: 0.5264 - val_accuracy: 0.7250\n",
      "Epoch 8/100\n",
      "4/4 [==============================] - 1s 317ms/step - loss: 0.5199 - accuracy: 0.7451 - val_loss: 0.4792 - val_accuracy: 0.7000\n",
      "Epoch 9/100\n",
      "4/4 [==============================] - 1s 258ms/step - loss: 0.5092 - accuracy: 0.7647 - val_loss: 0.4859 - val_accuracy: 0.7500\n",
      "Epoch 10/100\n",
      "4/4 [==============================] - 1s 255ms/step - loss: 0.4428 - accuracy: 0.8137 - val_loss: 0.4211 - val_accuracy: 0.7750\n",
      "Epoch 11/100\n",
      "4/4 [==============================] - 1s 256ms/step - loss: 0.4826 - accuracy: 0.8137 - val_loss: 0.5244 - val_accuracy: 0.7750\n",
      "Epoch 12/100\n",
      "4/4 [==============================] - 1s 245ms/step - loss: 0.4570 - accuracy: 0.7745 - val_loss: 0.3925 - val_accuracy: 0.8750\n",
      "Epoch 13/100\n",
      "4/4 [==============================] - 1s 248ms/step - loss: 0.4150 - accuracy: 0.8333 - val_loss: 0.4505 - val_accuracy: 0.8000\n",
      "Epoch 14/100\n",
      "4/4 [==============================] - 1s 339ms/step - loss: 0.4928 - accuracy: 0.7059 - val_loss: 0.3496 - val_accuracy: 0.8250\n",
      "Epoch 15/100\n",
      "4/4 [==============================] - 1s 322ms/step - loss: 0.3713 - accuracy: 0.8627 - val_loss: 0.5338 - val_accuracy: 0.8250\n",
      "Epoch 16/100\n",
      "4/4 [==============================] - 1s 240ms/step - loss: 0.4147 - accuracy: 0.8431 - val_loss: 0.3243 - val_accuracy: 0.8250\n",
      "Epoch 17/100\n",
      "4/4 [==============================] - 1s 245ms/step - loss: 0.3851 - accuracy: 0.8137 - val_loss: 0.3647 - val_accuracy: 0.8750\n",
      "Epoch 18/100\n",
      "4/4 [==============================] - 1s 225ms/step - loss: 0.2973 - accuracy: 0.8824 - val_loss: 0.4262 - val_accuracy: 0.8000\n",
      "Epoch 19/100\n",
      "4/4 [==============================] - 1s 240ms/step - loss: 0.3092 - accuracy: 0.9020 - val_loss: 0.2706 - val_accuracy: 0.9250\n",
      "Epoch 20/100\n",
      "4/4 [==============================] - 1s 310ms/step - loss: 0.3361 - accuracy: 0.8529 - val_loss: 0.2589 - val_accuracy: 0.9250\n",
      "Epoch 21/100\n",
      "4/4 [==============================] - 1s 300ms/step - loss: 0.3943 - accuracy: 0.8431 - val_loss: 0.4550 - val_accuracy: 0.7750\n",
      "Epoch 22/100\n",
      "4/4 [==============================] - 1s 250ms/step - loss: 0.2723 - accuracy: 0.9118 - val_loss: 0.2215 - val_accuracy: 0.9250\n",
      "Epoch 23/100\n",
      "4/4 [==============================] - 1s 247ms/step - loss: 0.3063 - accuracy: 0.8824 - val_loss: 0.2363 - val_accuracy: 0.9500\n",
      "Epoch 24/100\n",
      "4/4 [==============================] - 1s 241ms/step - loss: 0.3016 - accuracy: 0.9020 - val_loss: 0.4082 - val_accuracy: 0.8500\n",
      "Epoch 25/100\n",
      "4/4 [==============================] - 1s 252ms/step - loss: 0.3287 - accuracy: 0.8431 - val_loss: 0.2150 - val_accuracy: 0.9500\n",
      "Epoch 26/100\n",
      "4/4 [==============================] - 1s 235ms/step - loss: 0.2806 - accuracy: 0.9118 - val_loss: 0.4731 - val_accuracy: 0.7250\n",
      "Epoch 27/100\n",
      "4/4 [==============================] - 1s 254ms/step - loss: 0.2705 - accuracy: 0.8922 - val_loss: 0.2509 - val_accuracy: 0.9500\n",
      "Epoch 28/100\n",
      "4/4 [==============================] - 1s 262ms/step - loss: 0.2382 - accuracy: 0.9216 - val_loss: 0.2195 - val_accuracy: 0.9500\n",
      "Epoch 29/100\n",
      "4/4 [==============================] - 1s 262ms/step - loss: 0.2400 - accuracy: 0.9216 - val_loss: 0.3630 - val_accuracy: 0.8500\n",
      "Epoch 30/100\n",
      "4/4 [==============================] - 1s 249ms/step - loss: 0.2281 - accuracy: 0.9216 - val_loss: 0.1825 - val_accuracy: 0.9750\n",
      "Epoch 31/100\n",
      "4/4 [==============================] - 1s 251ms/step - loss: 0.2436 - accuracy: 0.9020 - val_loss: 0.2942 - val_accuracy: 0.9250\n",
      "Epoch 32/100\n",
      "4/4 [==============================] - 1s 256ms/step - loss: 0.2733 - accuracy: 0.8824 - val_loss: 0.1700 - val_accuracy: 0.9750\n",
      "Epoch 33/100\n",
      "4/4 [==============================] - 1s 251ms/step - loss: 0.2116 - accuracy: 0.9314 - val_loss: 0.1288 - val_accuracy: 0.9500\n",
      "Epoch 34/100\n",
      "4/4 [==============================] - 1s 326ms/step - loss: 0.2037 - accuracy: 0.9412 - val_loss: 0.2823 - val_accuracy: 0.8750\n",
      "Epoch 35/100\n",
      "4/4 [==============================] - 1s 275ms/step - loss: 0.2051 - accuracy: 0.9118 - val_loss: 0.2405 - val_accuracy: 0.9250\n",
      "Epoch 36/100\n",
      "4/4 [==============================] - 1s 275ms/step - loss: 0.1821 - accuracy: 0.9510 - val_loss: 0.1154 - val_accuracy: 0.9750\n",
      "Epoch 37/100\n",
      "4/4 [==============================] - 1s 250ms/step - loss: 0.2153 - accuracy: 0.9314 - val_loss: 0.1343 - val_accuracy: 0.9750\n",
      "Epoch 38/100\n",
      "4/4 [==============================] - 1s 260ms/step - loss: 0.1702 - accuracy: 0.9510 - val_loss: 0.1254 - val_accuracy: 0.9750\n",
      "Epoch 39/100\n",
      "4/4 [==============================] - 1s 319ms/step - loss: 0.1366 - accuracy: 0.9804 - val_loss: 0.0948 - val_accuracy: 1.0000\n",
      "Epoch 40/100\n",
      "4/4 [==============================] - 1s 248ms/step - loss: 0.2256 - accuracy: 0.9314 - val_loss: 0.2411 - val_accuracy: 0.8750\n",
      "Epoch 41/100\n",
      "4/4 [==============================] - 1s 244ms/step - loss: 0.2051 - accuracy: 0.9118 - val_loss: 0.0850 - val_accuracy: 1.0000\n",
      "Epoch 42/100\n",
      "4/4 [==============================] - 1s 258ms/step - loss: 0.1508 - accuracy: 0.9706 - val_loss: 0.0758 - val_accuracy: 0.9750\n",
      "Epoch 43/100\n",
      "4/4 [==============================] - 1s 256ms/step - loss: 0.1558 - accuracy: 0.9706 - val_loss: 0.1576 - val_accuracy: 0.9750\n",
      "Epoch 44/100\n",
      "4/4 [==============================] - 1s 254ms/step - loss: 0.1231 - accuracy: 0.9706 - val_loss: 0.0974 - val_accuracy: 0.9750\n",
      "Epoch 45/100\n",
      "4/4 [==============================] - 1s 251ms/step - loss: 0.1323 - accuracy: 0.9510 - val_loss: 0.0831 - val_accuracy: 0.9750\n",
      "Epoch 46/100\n",
      "4/4 [==============================] - 1s 244ms/step - loss: 0.1272 - accuracy: 0.9608 - val_loss: 0.2112 - val_accuracy: 0.9500\n",
      "Epoch 47/100\n",
      "4/4 [==============================] - 1s 313ms/step - loss: 0.2148 - accuracy: 0.9020 - val_loss: 0.1185 - val_accuracy: 0.9500\n",
      "Epoch 48/100\n",
      "4/4 [==============================] - 1s 254ms/step - loss: 0.1537 - accuracy: 0.9314 - val_loss: 0.3692 - val_accuracy: 0.8250\n",
      "Epoch 49/100\n",
      "4/4 [==============================] - 1s 315ms/step - loss: 0.1999 - accuracy: 0.9314 - val_loss: 0.1121 - val_accuracy: 0.9750\n",
      "Epoch 50/100\n",
      "4/4 [==============================] - 1s 243ms/step - loss: 0.1814 - accuracy: 0.9216 - val_loss: 0.0675 - val_accuracy: 0.9750\n",
      "Epoch 51/100\n",
      "4/4 [==============================] - 1s 256ms/step - loss: 0.0906 - accuracy: 0.9804 - val_loss: 0.2179 - val_accuracy: 0.8750\n",
      "Epoch 52/100\n",
      "4/4 [==============================] - 1s 317ms/step - loss: 0.1577 - accuracy: 0.9314 - val_loss: 0.0908 - val_accuracy: 0.9750\n",
      "Epoch 53/100\n",
      "4/4 [==============================] - 1s 258ms/step - loss: 0.1160 - accuracy: 0.9608 - val_loss: 0.0558 - val_accuracy: 0.9750\n",
      "Epoch 54/100\n",
      "4/4 [==============================] - 1s 315ms/step - loss: 0.1014 - accuracy: 0.9804 - val_loss: 0.0577 - val_accuracy: 1.0000\n",
      "Epoch 55/100\n",
      "4/4 [==============================] - 1s 255ms/step - loss: 0.1051 - accuracy: 0.9608 - val_loss: 0.0891 - val_accuracy: 1.0000\n",
      "Epoch 56/100\n",
      "4/4 [==============================] - 1s 250ms/step - loss: 0.1004 - accuracy: 0.9510 - val_loss: 0.0581 - val_accuracy: 0.9750\n",
      "Epoch 57/100\n",
      "4/4 [==============================] - 1s 244ms/step - loss: 0.1252 - accuracy: 0.9510 - val_loss: 0.0903 - val_accuracy: 0.9750\n",
      "Epoch 58/100\n",
      "4/4 [==============================] - 1s 250ms/step - loss: 0.0907 - accuracy: 0.9804 - val_loss: 0.0611 - val_accuracy: 1.0000\n"
     ]
    },
    {
     "name": "stdout",
     "output_type": "stream",
     "text": [
      "Epoch 59/100\n",
      "4/4 [==============================] - 1s 255ms/step - loss: 0.0856 - accuracy: 0.9804 - val_loss: 0.1268 - val_accuracy: 0.9750\n",
      "Epoch 60/100\n",
      "4/4 [==============================] - 1s 263ms/step - loss: 0.0901 - accuracy: 0.9706 - val_loss: 0.0504 - val_accuracy: 0.9750\n",
      "Epoch 61/100\n",
      "4/4 [==============================] - 1s 247ms/step - loss: 0.1080 - accuracy: 0.9608 - val_loss: 0.0460 - val_accuracy: 1.0000\n",
      "Epoch 62/100\n",
      "4/4 [==============================] - 1s 246ms/step - loss: 0.1086 - accuracy: 0.9706 - val_loss: 0.2101 - val_accuracy: 0.9250\n",
      "Epoch 63/100\n",
      "4/4 [==============================] - 1s 250ms/step - loss: 0.0844 - accuracy: 0.9804 - val_loss: 0.0298 - val_accuracy: 1.0000\n",
      "Epoch 64/100\n",
      "4/4 [==============================] - 1s 247ms/step - loss: 0.1056 - accuracy: 0.9706 - val_loss: 0.0284 - val_accuracy: 1.0000\n",
      "Epoch 65/100\n",
      "4/4 [==============================] - 1s 265ms/step - loss: 0.0800 - accuracy: 0.9804 - val_loss: 0.0730 - val_accuracy: 0.9750\n",
      "Epoch 66/100\n",
      "4/4 [==============================] - 1s 256ms/step - loss: 0.0746 - accuracy: 0.9804 - val_loss: 0.1685 - val_accuracy: 0.9750\n",
      "Epoch 67/100\n",
      "4/4 [==============================] - 1s 239ms/step - loss: 0.1016 - accuracy: 0.9804 - val_loss: 0.0292 - val_accuracy: 1.0000\n",
      "Epoch 68/100\n",
      "4/4 [==============================] - 1s 247ms/step - loss: 0.1244 - accuracy: 0.9412 - val_loss: 0.0267 - val_accuracy: 1.0000\n",
      "Epoch 69/100\n",
      "4/4 [==============================] - 1s 252ms/step - loss: 0.0795 - accuracy: 0.9902 - val_loss: 0.0203 - val_accuracy: 1.0000\n",
      "Epoch 70/100\n",
      "4/4 [==============================] - 1s 320ms/step - loss: 0.0963 - accuracy: 0.9902 - val_loss: 0.0220 - val_accuracy: 1.0000\n",
      "Epoch 71/100\n",
      "4/4 [==============================] - 1s 243ms/step - loss: 0.0680 - accuracy: 0.9706 - val_loss: 0.0838 - val_accuracy: 1.0000\n",
      "Epoch 72/100\n",
      "4/4 [==============================] - 1s 269ms/step - loss: 0.0829 - accuracy: 0.9706 - val_loss: 0.0197 - val_accuracy: 1.0000\n",
      "Epoch 73/100\n",
      "4/4 [==============================] - 1s 255ms/step - loss: 0.0691 - accuracy: 0.9804 - val_loss: 0.0167 - val_accuracy: 1.0000\n",
      "Epoch 74/100\n",
      "4/4 [==============================] - 1s 245ms/step - loss: 0.0441 - accuracy: 0.9902 - val_loss: 0.0580 - val_accuracy: 1.0000\n",
      "Epoch 75/100\n",
      "4/4 [==============================] - 1s 248ms/step - loss: 0.0338 - accuracy: 1.0000 - val_loss: 0.0220 - val_accuracy: 1.0000\n",
      "Epoch 76/100\n",
      "4/4 [==============================] - 1s 237ms/step - loss: 0.0552 - accuracy: 0.9902 - val_loss: 0.0136 - val_accuracy: 1.0000\n",
      "Epoch 77/100\n",
      "4/4 [==============================] - 1s 245ms/step - loss: 0.0496 - accuracy: 0.9902 - val_loss: 0.0233 - val_accuracy: 1.0000\n",
      "Epoch 78/100\n",
      "4/4 [==============================] - 1s 252ms/step - loss: 0.0762 - accuracy: 0.9510 - val_loss: 0.2219 - val_accuracy: 0.9250\n",
      "Epoch 79/100\n",
      "4/4 [==============================] - 1s 242ms/step - loss: 0.0943 - accuracy: 0.9608 - val_loss: 0.0113 - val_accuracy: 1.0000\n",
      "Epoch 80/100\n",
      "4/4 [==============================] - 1s 238ms/step - loss: 0.0918 - accuracy: 0.9706 - val_loss: 0.0114 - val_accuracy: 1.0000\n",
      "Epoch 81/100\n",
      "4/4 [==============================] - 1s 318ms/step - loss: 0.0544 - accuracy: 0.9902 - val_loss: 0.0952 - val_accuracy: 0.9500\n",
      "Epoch 82/100\n",
      "4/4 [==============================] - 1s 318ms/step - loss: 0.0593 - accuracy: 0.9804 - val_loss: 0.0268 - val_accuracy: 1.0000\n",
      "Epoch 83/100\n",
      "4/4 [==============================] - 1s 257ms/step - loss: 0.0385 - accuracy: 0.9902 - val_loss: 0.0098 - val_accuracy: 1.0000\n",
      "Epoch 84/100\n",
      "4/4 [==============================] - 1s 254ms/step - loss: 0.0547 - accuracy: 0.9902 - val_loss: 0.1516 - val_accuracy: 0.9250\n",
      "Epoch 85/100\n",
      "4/4 [==============================] - 1s 253ms/step - loss: 0.0825 - accuracy: 0.9608 - val_loss: 0.0130 - val_accuracy: 1.0000\n",
      "Epoch 86/100\n",
      "4/4 [==============================] - 1s 305ms/step - loss: 0.1296 - accuracy: 0.9314 - val_loss: 0.0313 - val_accuracy: 0.9750\n",
      "Epoch 87/100\n",
      "4/4 [==============================] - 1s 311ms/step - loss: 0.0588 - accuracy: 0.9706 - val_loss: 0.2492 - val_accuracy: 0.9250\n",
      "Epoch 88/100\n",
      "4/4 [==============================] - 1s 252ms/step - loss: 0.0700 - accuracy: 0.9804 - val_loss: 0.0564 - val_accuracy: 0.9750\n",
      "Epoch 89/100\n",
      "4/4 [==============================] - 1s 251ms/step - loss: 0.0605 - accuracy: 0.9902 - val_loss: 0.0209 - val_accuracy: 1.0000\n",
      "Epoch 90/100\n",
      "4/4 [==============================] - 1s 245ms/step - loss: 0.0738 - accuracy: 0.9804 - val_loss: 0.0733 - val_accuracy: 0.9750\n",
      "Epoch 91/100\n",
      "4/4 [==============================] - 1s 260ms/step - loss: 0.0649 - accuracy: 0.9804 - val_loss: 0.0203 - val_accuracy: 1.0000\n",
      "Epoch 92/100\n",
      "4/4 [==============================] - 1s 238ms/step - loss: 0.0498 - accuracy: 0.9902 - val_loss: 0.0323 - val_accuracy: 1.0000\n",
      "Epoch 93/100\n",
      "4/4 [==============================] - 1s 255ms/step - loss: 0.0278 - accuracy: 1.0000 - val_loss: 0.0325 - val_accuracy: 1.0000\n",
      "Epoch 94/100\n",
      "4/4 [==============================] - 1s 310ms/step - loss: 0.0338 - accuracy: 1.0000 - val_loss: 0.0123 - val_accuracy: 1.0000\n",
      "Epoch 95/100\n",
      "4/4 [==============================] - 1s 241ms/step - loss: 0.0385 - accuracy: 0.9902 - val_loss: 0.0152 - val_accuracy: 1.0000\n",
      "Epoch 96/100\n",
      "4/4 [==============================] - 1s 234ms/step - loss: 0.0348 - accuracy: 1.0000 - val_loss: 0.0227 - val_accuracy: 1.0000\n",
      "Epoch 97/100\n",
      "4/4 [==============================] - 1s 309ms/step - loss: 0.0230 - accuracy: 1.0000 - val_loss: 0.0127 - val_accuracy: 1.0000\n",
      "Epoch 98/100\n",
      "4/4 [==============================] - 1s 263ms/step - loss: 0.0220 - accuracy: 1.0000 - val_loss: 0.0100 - val_accuracy: 1.0000\n",
      "Epoch 99/100\n",
      "4/4 [==============================] - 1s 243ms/step - loss: 0.0194 - accuracy: 1.0000 - val_loss: 0.0137 - val_accuracy: 1.0000\n",
      "Epoch 100/100\n",
      "4/4 [==============================] - 1s 242ms/step - loss: 0.0392 - accuracy: 1.0000 - val_loss: 0.0139 - val_accuracy: 1.0000\n"
     ]
    },
    {
     "data": {
      "text/plain": [
       "<keras.callbacks.History at 0x1c960274880>"
      ]
     },
     "execution_count": 12,
     "metadata": {},
     "output_type": "execute_result"
    }
   ],
   "source": [
    "model.fit_generator(x_train , steps_per_epoch = 4, epochs = 100, validation_data = x_test, validation_steps = 2)"
   ]
  },
  {
   "cell_type": "code",
   "execution_count": 13,
   "metadata": {},
   "outputs": [],
   "source": [
    "model.save(\"LungCancer.h5\")"
   ]
  },
  {
   "cell_type": "code",
   "execution_count": null,
   "metadata": {},
   "outputs": [],
   "source": []
  }
 ],
 "metadata": {
  "kernelspec": {
   "display_name": "Python 3 (ipykernel)",
   "language": "python",
   "name": "python3"
  },
  "language_info": {
   "codemirror_mode": {
    "name": "ipython",
    "version": 3
   },
   "file_extension": ".py",
   "mimetype": "text/x-python",
   "name": "python",
   "nbconvert_exporter": "python",
   "pygments_lexer": "ipython3",
   "version": "3.9.12"
  }
 },
 "nbformat": 4,
 "nbformat_minor": 2
}
